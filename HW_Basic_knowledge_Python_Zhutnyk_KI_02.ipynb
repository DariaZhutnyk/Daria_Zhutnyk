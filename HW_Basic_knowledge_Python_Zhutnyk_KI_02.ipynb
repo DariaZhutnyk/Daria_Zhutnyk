{
  "nbformat": 4,
  "nbformat_minor": 0,
  "metadata": {
    "colab": {
      "provenance": [],
      "collapsed_sections": []
    },
    "kernelspec": {
      "name": "python3",
      "display_name": "Python 3"
    },
    "language_info": {
      "name": "python"
    }
  },
  "cells": [
    {
      "cell_type": "markdown",
      "source": [
        "\n",
        "Python HW - Жутник Дар'я КІ-02\n",
        "\n",
        "---\n",
        "\n",
        "Task №1\n",
        "\n",
        "In this task you will create a function that takes a list of non-negative integers and strings and returns a new list with the strings filtered out.\n"
      ],
      "metadata": {
        "id": "nTHfcYR2Huca"
      }
    },
    {
      "cell_type": "code",
      "execution_count": null,
      "metadata": {
        "id": "M4KkStOlGp4S"
      },
      "outputs": [],
      "source": [
        "def filter_list(input_list):\n",
        "  output_list = []\n",
        "  for i in input_list:          \n",
        "    if isinstance(i, int):      #if element is integer\n",
        "      output_list.append(i)     #add element to output list\n",
        "  return output_list            "
      ]
    },
    {
      "cell_type": "code",
      "source": [
        "print(filter_list([1, 2, 'a', 'b']))\n",
        "print(filter_list([1, 'a', 'b', 0, 15]))\n",
        "print(filter_list([1, 2, 'aasf', '1', '123', 123]))"
      ],
      "metadata": {
        "colab": {
          "base_uri": "https://localhost:8080/"
        },
        "id": "T3BwGqEJIXG9",
        "outputId": "079c9f13-f053-457a-ffc5-4cc101164256"
      },
      "execution_count": null,
      "outputs": [
        {
          "output_type": "stream",
          "name": "stdout",
          "text": [
            "[1, 2]\n",
            "[1, 0, 15]\n",
            "[1, 2, 123]\n"
          ]
        }
      ]
    },
    {
      "cell_type": "markdown",
      "source": [
        "---\n",
        "Task №2\n",
        " \n",
        "Write a function named first_non_repeating_letter that takes a string input, and returns the first character that is not repeated anywhere in the string.\n",
        "For example, if given the input 'stress', the function should return 't', since the letter t only occurs once in the string, and occurs first in the string.\n",
        "As an added challenge, upper- and lowercase letters are considered the same character, but the function should return the correct case for the initial letter. For example, the input 'sTreSS' should return 'T'.\n",
        "If a string contains all repeating characters, it should return an empty string (\"\") or None -- see sample tests."
      ],
      "metadata": {
        "id": "AsHB4TztIFa8"
      }
    },
    {
      "cell_type": "code",
      "source": [
        "def first_non_repeating_letter(input_str):\n",
        "  for char in input_str: \n",
        "    # char_reversed has reversed letter case (t->T or T->t)\n",
        "    char_reversed = char.swapcase() \n",
        "    # count how many times both lowercase and uppercase appears in string\n",
        "    if (input_str.count(char_reversed)+input_str.count(char)) == 1:\n",
        "      #return first character that appears once\n",
        "      return char\n",
        "  #if no such character - return empty string\n",
        "  return ''"
      ],
      "metadata": {
        "id": "TxzMJN9FI67-"
      },
      "execution_count": null,
      "outputs": []
    },
    {
      "cell_type": "code",
      "source": [
        "print(first_non_repeating_letter('stress')) # 't'\n",
        "print(first_non_repeating_letter(\"sTreSS\")) # 'T'\n",
        "print(first_non_repeating_letter(\"sTrtEeSS\")) # 'r'"
      ],
      "metadata": {
        "colab": {
          "base_uri": "https://localhost:8080/"
        },
        "id": "lPhbnef5JJwz",
        "outputId": "a103a3ba-4b1e-482a-bd25-777bbda4cb7f"
      },
      "execution_count": null,
      "outputs": [
        {
          "output_type": "stream",
          "name": "stdout",
          "text": [
            "t\n",
            "T\n",
            "r\n"
          ]
        }
      ]
    },
    {
      "cell_type": "markdown",
      "source": [
        "---\n",
        "Task №3\n",
        "\n",
        "Digital root is the recursive sum of all the digits in a number.\n",
        "Given n, take the sum of the digits of n. If that value has more than one digit, continue reducing in this way until a single-digit number is produced. The input will be a non-negative integer"
      ],
      "metadata": {
        "id": "p02L8XdGH7Ap"
      }
    },
    {
      "cell_type": "code",
      "source": [
        "# count sum of all digits\n",
        "def digit_sum(n):\n",
        "  if n<10:\n",
        "      return n\n",
        "  return n%10 + digit_sum(n//10)\n",
        "\n",
        "def digital_root(n):\n",
        "  #if n less than 10 - return n\n",
        "  if n < 10:\n",
        "    return n\n",
        "  #else: count sum of all digits in n -> sum is new n\n",
        "  return digital_root(digit_sum(n))"
      ],
      "metadata": {
        "id": "XH2dhJEYW-Z1"
      },
      "execution_count": null,
      "outputs": []
    },
    {
      "cell_type": "code",
      "source": [
        "print(digital_root(16)) # 1+6=7\n",
        "print(digital_root(942)) # 9+4+2=15 -> 1+5=6\n",
        "print(digital_root(132189)) # 1+3+2+1+8+9=24 -> 2+4=6\n",
        "print(digital_root(493193)) # 4+9+3+1+9+3=29 -> 1+1=2"
      ],
      "metadata": {
        "colab": {
          "base_uri": "https://localhost:8080/"
        },
        "id": "zDvA-tp2X01M",
        "outputId": "620bd372-cb9b-4c23-cb9b-8e55e60589bb"
      },
      "execution_count": null,
      "outputs": [
        {
          "output_type": "stream",
          "name": "stdout",
          "text": [
            "7\n",
            "6\n",
            "6\n",
            "2\n"
          ]
        }
      ]
    },
    {
      "cell_type": "markdown",
      "source": [
        "---\n",
        "Task №4\n",
        "\n",
        "There is an array of numbers - arr [1, 3, 6, 2, 2, 0, 4, 5] there is a number target = 5.\n",
        "Count the number of pairs in the array, the sum of which will give target"
      ],
      "metadata": {
        "id": "YFvi2qNgZnpg"
      }
    },
    {
      "cell_type": "code",
      "source": [
        "def count_pairs(arr, target):\n",
        "  output = 0\n",
        "  for i in range(len(arr)):\n",
        "    # pairs shouldn`t be duplicated, so at each iteration i, the number of iterations j is reduced\n",
        "    for j in range(len(arr)-i):\n",
        "      if arr[i]+arr[i+j]==target:\n",
        "        output= output+1\n",
        "        print(arr[i], '+', arr[i+j])\n",
        "      \n",
        "  return output"
      ],
      "metadata": {
        "id": "cHW7iQsMZoXD"
      },
      "execution_count": null,
      "outputs": []
    },
    {
      "cell_type": "code",
      "source": [
        "print('\\nPairs: ', count_pairs([1, 3, 6, 2, 2, 0, 4, 5], 5)) # 1+4 / 3+2 / 3+2 / 0+5\n",
        "# [0]+[6] is the same pair as [6]+[0] "
      ],
      "metadata": {
        "colab": {
          "base_uri": "https://localhost:8080/"
        },
        "id": "f3YLaVw-Z70g",
        "outputId": "7b14b9c6-61ea-4197-9b94-ee71af760ac6"
      },
      "execution_count": 174,
      "outputs": [
        {
          "output_type": "stream",
          "name": "stdout",
          "text": [
            "1 + 4\n",
            "3 + 2\n",
            "3 + 2\n",
            "0 + 5\n",
            "\n",
            "Pairs:  4\n"
          ]
        }
      ]
    },
    {
      "cell_type": "markdown",
      "source": [
        "---\n",
        "Task №5\n",
        "\n",
        "Den has invited some friends. Could you make a program that:\n",
        "- makes this string uppercase\n",
        "- gives it sorted in alphabetical order by last name.\n",
        "\n",
        "When the last names are the same, sort them by first name. Last name and first name of a guest come in the result between parentheses separated by a comma."
      ],
      "metadata": {
        "id": "mg9T-4XZeomG"
      }
    },
    {
      "cell_type": "code",
      "source": [
        "def seperate_names(names_str):\n",
        "  x = ''\n",
        "  f_names = []\n",
        "  l_names = []\n",
        "\n",
        "  # seperate string into 2 lists - with first and last names\n",
        "  for i in range(len(names_str)):\n",
        "    if names_str[i] == ':':\n",
        "      f_names.append(x.upper())\n",
        "      x = \"\"\n",
        "    elif names_str[i] == ';':\n",
        "      l_names.append(x.upper())\n",
        "      x = \"\"\n",
        "    elif i==len(names_str)-1:\n",
        "      x += names_str[i]\n",
        "      l_names.append(x.upper())\n",
        "      x = \"\"\n",
        "    else: x+= names_str[i]\n",
        "\n",
        "  # merge 2 lists into 1 list\n",
        "  names_list = list(zip(l_names, f_names))\n",
        "  # sort list by last names then by first names (if neded)\n",
        "  names_list.sort(key = lambda x: (x[0], x[1]))\n",
        "\n",
        "  return names_list\n",
        "\n",
        "\n",
        "def sort_names(unsorted_str):\n",
        "  sorted_string = \"\"\n",
        "  # transform string into sorted list\n",
        "  names_list = seperate_names(unsorted_str)\n",
        "\n",
        "  # transform sorted list back into sorted and formated string\n",
        "  for i in names_list:\n",
        "    sorted_string = sorted_string + \"(\" + i[0] + ', ' + i[1] +') '\n",
        "\n",
        "  return sorted_string"
      ],
      "metadata": {
        "id": "-XI3KFcD-ixD"
      },
      "execution_count": 170,
      "outputs": []
    },
    {
      "cell_type": "code",
      "source": [
        "s = \"Fred:Corwill;Wilfred:Corwill;Barney:Tornbull;Betty:Tornbull;Bjon:Tornbull;Raphael:Corwill;Alfred:Corwill\"\n",
        "\n",
        "print(sort_names(s))"
      ],
      "metadata": {
        "colab": {
          "base_uri": "https://localhost:8080/"
        },
        "id": "07kqf_KmhCM_",
        "outputId": "32493e60-792d-4ba5-efd3-9627dfe2c126"
      },
      "execution_count": 171,
      "outputs": [
        {
          "output_type": "stream",
          "name": "stdout",
          "text": [
            "(CORWILL, ALFRED) (CORWILL, FRED) (CORWILL, RAPHAEL) (CORWILL, WILFRED) (TORNBULL, BARNEY) (TORNBULL, BETTY) (TORNBULL, BJON) \n"
          ]
        }
      ]
    }
  ]
}